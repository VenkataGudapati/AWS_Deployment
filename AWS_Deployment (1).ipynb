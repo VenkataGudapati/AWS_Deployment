{
 "cells": [
  {
   "cell_type": "markdown",
   "metadata": {},
   "source": [
    "## Loading required libraries"
   ]
  },
  {
   "cell_type": "code",
   "execution_count": null,
   "metadata": {},
   "outputs": [],
   "source": [
    "import sagemaker\n",
    "import boto3\n",
    "from sagemaker.amazon.amazon_estimator import get_image_uri\n",
    "from sagemaker.session import s3_input, Session"
   ]
  },
  {
   "cell_type": "markdown",
   "metadata": {},
   "source": [
    "## Creating a Bucket"
   ]
  },
  {
   "cell_type": "code",
   "execution_count": 5,
   "metadata": {},
   "outputs": [
    {
     "name": "stdout",
     "output_type": "stream",
     "text": [
      "us-east-1\n"
     ]
    }
   ],
   "source": [
    "bucket_name = 'first1project'\n",
    "my_region = boto3.session.Session().region_name\n",
    "print(my_region)"
   ]
  },
  {
   "cell_type": "code",
   "execution_count": 6,
   "metadata": {},
   "outputs": [
    {
     "name": "stdout",
     "output_type": "stream",
     "text": [
      "S3 bucket created successfully\n"
     ]
    }
   ],
   "source": [
    "s3 = boto3.resource('s3')\n",
    "try:\n",
    "    if my_region == 'us-east-1':                \n",
    "        s3.create_bucket(Bucket = bucket_name)\n",
    "    print('S3 bucket created successfully')\n",
    "except Exception as e:\n",
    "    print('S3 error: ',e)"
   ]
  },
  {
   "cell_type": "code",
   "execution_count": 7,
   "metadata": {},
   "outputs": [
    {
     "name": "stdout",
     "output_type": "stream",
     "text": [
      "s3://first1project/xgboost-as-a-built-in-algo/output\n"
     ]
    }
   ],
   "source": [
    "#set an output path where the trained model will be saved\n",
    "prefix = 'xgboost-as-a-built-in-algo'\n",
    "output_path = 's3://{}/{}/output'.format(bucket_name, prefix)\n",
    "print(output_path)"
   ]
  },
  {
   "cell_type": "code",
   "execution_count": 8,
   "metadata": {},
   "outputs": [
    {
     "name": "stdout",
     "output_type": "stream",
     "text": [
      "Success: downloaded bank_clean.csv.\n",
      "Success: Data loaded into dataframe.\n"
     ]
    }
   ],
   "source": [
    "import pandas as pd\n",
    "import urllib\n",
    "try:\n",
    "    urllib.request.urlretrieve (\"https://d1.awsstatic.com/tmt/build-train-deploy-machine-learning-model-sagemaker/bank_clean.27f01fbbdf43271788427f3682996ae29ceca05d.csv\", \"bank_clean.csv\")\n",
    "    print('Success: downloaded bank_clean.csv.')  # Taking data from the webpage\n",
    "except Exception as e:\n",
    "    print('Data load error: ',e)\n",
    "\n",
    "try:\n",
    "    model_data = pd.read_csv('./bank_clean.csv',index_col=0)\n",
    "    print('Success: Data loaded into dataframe.')\n",
    "except Exception as e:\n",
    "    print('Data load error: ',e)"
   ]
  },
  {
   "cell_type": "code",
   "execution_count": 10,
   "metadata": {},
   "outputs": [
    {
     "name": "stdout",
     "output_type": "stream",
     "text": [
      "(28831, 61) (12357, 61)\n"
     ]
    }
   ],
   "source": [
    "import numpy as np\n",
    "train_data, test_data = np.split(model_data.sample(frac =1 , random_state = 179), [int(0.7*len(model_data))])\n",
    "print(train_data.shape, test_data.shape)  # Rows and Columns in Test and Train dataset"
   ]
  },
  {
   "cell_type": "code",
   "execution_count": 17,
   "metadata": {},
   "outputs": [
    {
     "data": {
      "text/plain": [
       "['_PY_TO_OP_NAME',\n",
       " '__class__',\n",
       " '__delattr__',\n",
       " '__dict__',\n",
       " '__dir__',\n",
       " '__doc__',\n",
       " '__eq__',\n",
       " '__format__',\n",
       " '__ge__',\n",
       " '__getattr__',\n",
       " '__getattribute__',\n",
       " '__gt__',\n",
       " '__hash__',\n",
       " '__init__',\n",
       " '__init_subclass__',\n",
       " '__le__',\n",
       " '__lt__',\n",
       " '__module__',\n",
       " '__ne__',\n",
       " '__new__',\n",
       " '__reduce__',\n",
       " '__reduce_ex__',\n",
       " '__repr__',\n",
       " '__setattr__',\n",
       " '__sizeof__',\n",
       " '__str__',\n",
       " '__subclasshook__',\n",
       " '__weakref__',\n",
       " '_cache',\n",
       " '_client_config',\n",
       " '_convert_to_request_dict',\n",
       " '_emit_api_params',\n",
       " '_endpoint',\n",
       " '_exceptions',\n",
       " '_exceptions_factory',\n",
       " '_get_waiter_config',\n",
       " '_load_exceptions',\n",
       " '_loader',\n",
       " '_make_api_call',\n",
       " '_make_request',\n",
       " '_register_handlers',\n",
       " '_request_signer',\n",
       " '_response_parser',\n",
       " '_serializer',\n",
       " '_service_model',\n",
       " 'add_association',\n",
       " 'add_tags',\n",
       " 'associate_trial_component',\n",
       " 'can_paginate',\n",
       " 'create_action',\n",
       " 'create_algorithm',\n",
       " 'create_app',\n",
       " 'create_app_image_config',\n",
       " 'create_artifact',\n",
       " 'create_auto_ml_job',\n",
       " 'create_code_repository',\n",
       " 'create_compilation_job',\n",
       " 'create_context',\n",
       " 'create_data_quality_job_definition',\n",
       " 'create_device_fleet',\n",
       " 'create_domain',\n",
       " 'create_edge_packaging_job',\n",
       " 'create_endpoint',\n",
       " 'create_endpoint_config',\n",
       " 'create_experiment',\n",
       " 'create_feature_group',\n",
       " 'create_flow_definition',\n",
       " 'create_human_task_ui',\n",
       " 'create_hyper_parameter_tuning_job',\n",
       " 'create_image',\n",
       " 'create_image_version',\n",
       " 'create_labeling_job',\n",
       " 'create_model',\n",
       " 'create_model_bias_job_definition',\n",
       " 'create_model_explainability_job_definition',\n",
       " 'create_model_package',\n",
       " 'create_model_package_group',\n",
       " 'create_model_quality_job_definition',\n",
       " 'create_monitoring_schedule',\n",
       " 'create_notebook_instance',\n",
       " 'create_notebook_instance_lifecycle_config',\n",
       " 'create_pipeline',\n",
       " 'create_presigned_domain_url',\n",
       " 'create_presigned_notebook_instance_url',\n",
       " 'create_processing_job',\n",
       " 'create_project',\n",
       " 'create_training_job',\n",
       " 'create_transform_job',\n",
       " 'create_trial',\n",
       " 'create_trial_component',\n",
       " 'create_user_profile',\n",
       " 'create_workforce',\n",
       " 'create_workteam',\n",
       " 'delete_action',\n",
       " 'delete_algorithm',\n",
       " 'delete_app',\n",
       " 'delete_app_image_config',\n",
       " 'delete_artifact',\n",
       " 'delete_association',\n",
       " 'delete_code_repository',\n",
       " 'delete_context',\n",
       " 'delete_data_quality_job_definition',\n",
       " 'delete_device_fleet',\n",
       " 'delete_domain',\n",
       " 'delete_endpoint',\n",
       " 'delete_endpoint_config',\n",
       " 'delete_experiment',\n",
       " 'delete_feature_group',\n",
       " 'delete_flow_definition',\n",
       " 'delete_human_task_ui',\n",
       " 'delete_image',\n",
       " 'delete_image_version',\n",
       " 'delete_model',\n",
       " 'delete_model_bias_job_definition',\n",
       " 'delete_model_explainability_job_definition',\n",
       " 'delete_model_package',\n",
       " 'delete_model_package_group',\n",
       " 'delete_model_package_group_policy',\n",
       " 'delete_model_quality_job_definition',\n",
       " 'delete_monitoring_schedule',\n",
       " 'delete_notebook_instance',\n",
       " 'delete_notebook_instance_lifecycle_config',\n",
       " 'delete_pipeline',\n",
       " 'delete_project',\n",
       " 'delete_tags',\n",
       " 'delete_trial',\n",
       " 'delete_trial_component',\n",
       " 'delete_user_profile',\n",
       " 'delete_workforce',\n",
       " 'delete_workteam',\n",
       " 'deregister_devices',\n",
       " 'describe_action',\n",
       " 'describe_algorithm',\n",
       " 'describe_app',\n",
       " 'describe_app_image_config',\n",
       " 'describe_artifact',\n",
       " 'describe_auto_ml_job',\n",
       " 'describe_code_repository',\n",
       " 'describe_compilation_job',\n",
       " 'describe_context',\n",
       " 'describe_data_quality_job_definition',\n",
       " 'describe_device',\n",
       " 'describe_device_fleet',\n",
       " 'describe_domain',\n",
       " 'describe_edge_packaging_job',\n",
       " 'describe_endpoint',\n",
       " 'describe_endpoint_config',\n",
       " 'describe_experiment',\n",
       " 'describe_feature_group',\n",
       " 'describe_flow_definition',\n",
       " 'describe_human_task_ui',\n",
       " 'describe_hyper_parameter_tuning_job',\n",
       " 'describe_image',\n",
       " 'describe_image_version',\n",
       " 'describe_labeling_job',\n",
       " 'describe_model',\n",
       " 'describe_model_bias_job_definition',\n",
       " 'describe_model_explainability_job_definition',\n",
       " 'describe_model_package',\n",
       " 'describe_model_package_group',\n",
       " 'describe_model_quality_job_definition',\n",
       " 'describe_monitoring_schedule',\n",
       " 'describe_notebook_instance',\n",
       " 'describe_notebook_instance_lifecycle_config',\n",
       " 'describe_pipeline',\n",
       " 'describe_pipeline_definition_for_execution',\n",
       " 'describe_pipeline_execution',\n",
       " 'describe_processing_job',\n",
       " 'describe_project',\n",
       " 'describe_subscribed_workteam',\n",
       " 'describe_training_job',\n",
       " 'describe_transform_job',\n",
       " 'describe_trial',\n",
       " 'describe_trial_component',\n",
       " 'describe_user_profile',\n",
       " 'describe_workforce',\n",
       " 'describe_workteam',\n",
       " 'disable_sagemaker_servicecatalog_portfolio',\n",
       " 'disassociate_trial_component',\n",
       " 'enable_sagemaker_servicecatalog_portfolio',\n",
       " 'exceptions',\n",
       " 'generate_presigned_url',\n",
       " 'get_device_fleet_report',\n",
       " 'get_model_package_group_policy',\n",
       " 'get_paginator',\n",
       " 'get_sagemaker_servicecatalog_portfolio_status',\n",
       " 'get_search_suggestions',\n",
       " 'get_waiter',\n",
       " 'list_actions',\n",
       " 'list_algorithms',\n",
       " 'list_app_image_configs',\n",
       " 'list_apps',\n",
       " 'list_artifacts',\n",
       " 'list_associations',\n",
       " 'list_auto_ml_jobs',\n",
       " 'list_candidates_for_auto_ml_job',\n",
       " 'list_code_repositories',\n",
       " 'list_compilation_jobs',\n",
       " 'list_contexts',\n",
       " 'list_data_quality_job_definitions',\n",
       " 'list_device_fleets',\n",
       " 'list_devices',\n",
       " 'list_domains',\n",
       " 'list_edge_packaging_jobs',\n",
       " 'list_endpoint_configs',\n",
       " 'list_endpoints',\n",
       " 'list_experiments',\n",
       " 'list_feature_groups',\n",
       " 'list_flow_definitions',\n",
       " 'list_human_task_uis',\n",
       " 'list_hyper_parameter_tuning_jobs',\n",
       " 'list_image_versions',\n",
       " 'list_images',\n",
       " 'list_labeling_jobs',\n",
       " 'list_labeling_jobs_for_workteam',\n",
       " 'list_model_bias_job_definitions',\n",
       " 'list_model_explainability_job_definitions',\n",
       " 'list_model_package_groups',\n",
       " 'list_model_packages',\n",
       " 'list_model_quality_job_definitions',\n",
       " 'list_models',\n",
       " 'list_monitoring_executions',\n",
       " 'list_monitoring_schedules',\n",
       " 'list_notebook_instance_lifecycle_configs',\n",
       " 'list_notebook_instances',\n",
       " 'list_pipeline_execution_steps',\n",
       " 'list_pipeline_executions',\n",
       " 'list_pipeline_parameters_for_execution',\n",
       " 'list_pipelines',\n",
       " 'list_processing_jobs',\n",
       " 'list_projects',\n",
       " 'list_subscribed_workteams',\n",
       " 'list_tags',\n",
       " 'list_training_jobs',\n",
       " 'list_training_jobs_for_hyper_parameter_tuning_job',\n",
       " 'list_transform_jobs',\n",
       " 'list_trial_components',\n",
       " 'list_trials',\n",
       " 'list_user_profiles',\n",
       " 'list_workforces',\n",
       " 'list_workteams',\n",
       " 'meta',\n",
       " 'put_model_package_group_policy',\n",
       " 'register_devices',\n",
       " 'render_ui_template',\n",
       " 'search',\n",
       " 'start_monitoring_schedule',\n",
       " 'start_notebook_instance',\n",
       " 'start_pipeline_execution',\n",
       " 'stop_auto_ml_job',\n",
       " 'stop_compilation_job',\n",
       " 'stop_edge_packaging_job',\n",
       " 'stop_hyper_parameter_tuning_job',\n",
       " 'stop_labeling_job',\n",
       " 'stop_monitoring_schedule',\n",
       " 'stop_notebook_instance',\n",
       " 'stop_pipeline_execution',\n",
       " 'stop_processing_job',\n",
       " 'stop_training_job',\n",
       " 'stop_transform_job',\n",
       " 'update_action',\n",
       " 'update_app_image_config',\n",
       " 'update_artifact',\n",
       " 'update_code_repository',\n",
       " 'update_context',\n",
       " 'update_device_fleet',\n",
       " 'update_devices',\n",
       " 'update_domain',\n",
       " 'update_endpoint',\n",
       " 'update_endpoint_weights_and_capacities',\n",
       " 'update_experiment',\n",
       " 'update_image',\n",
       " 'update_model_package',\n",
       " 'update_monitoring_schedule',\n",
       " 'update_notebook_instance',\n",
       " 'update_notebook_instance_lifecycle_config',\n",
       " 'update_pipeline',\n",
       " 'update_pipeline_execution',\n",
       " 'update_training_job',\n",
       " 'update_trial',\n",
       " 'update_trial_component',\n",
       " 'update_user_profile',\n",
       " 'update_workforce',\n",
       " 'update_workteam',\n",
       " 'waiter_names']"
      ]
     },
     "execution_count": 17,
     "metadata": {},
     "output_type": "execute_result"
    }
   ],
   "source": [
    "sagemaker = boto3.client('sagemaker')\n",
    "dir(sagemaker)"
   ]
  },
  {
   "cell_type": "code",
   "execution_count": 24,
   "metadata": {},
   "outputs": [],
   "source": [
    "#saving train and test into buckets\n",
    "\n",
    "import os\n",
    "pd.concat([train_data['y_yes'], train_data.drop(['y_no', 'y_yes'], axis = 1)], axis =1).to_csv('train.csv', index = False, header = False)\n",
    "boto3.Session().resource('s3').Bucket(bucket_name).Object(os.path.join(prefix, 'train/train.csv')).upload_file('train.csv')\n",
    "S3_train = sagemaker.TrainingInput(s3_data ='s3://{}/{}/train'.format(bucket_name, prefix), content_type='csv')"
   ]
  },
  {
   "cell_type": "code",
   "execution_count": 25,
   "metadata": {},
   "outputs": [],
   "source": [
    "pd.concat([test_data['y_yes'], test_data.drop(['y_no', 'y_yes'], axis = 1)], axis =1).to_csv('test.csv', index = False, header = False)\n",
    "boto3.Session().resource('s3').Bucket(bucket_name).Object(os.path.join(prefix, 'test/test.csv')).upload_file('test.csv')\n",
    "S3_test = sagemaker.TrainingInput(s3_data ='s3://{}/{}/test'.format(bucket_name, prefix), content_type='csv')"
   ]
  },
  {
   "cell_type": "markdown",
   "metadata": {},
   "source": [
    "# Building Xgboost model"
   ]
  },
  {
   "cell_type": "code",
   "execution_count": 26,
   "metadata": {},
   "outputs": [
    {
     "name": "stderr",
     "output_type": "stream",
     "text": [
      "The method get_image_uri has been renamed in sagemaker>=2.\n",
      "See: https://sagemaker.readthedocs.io/en/stable/v2.html for details.\n"
     ]
    }
   ],
   "source": [
    "container = get_image_uri(boto3.Session().region_name, 'xgboost', repo_version = '1.0-1') # AWS Sagemaker in-built Xgboost model"
   ]
  },
  {
   "cell_type": "code",
   "execution_count": 38,
   "metadata": {},
   "outputs": [],
   "source": [
    "hyperparameters = {                          # Defined the hyperparameters which best suits the model. Excecuted Hyperparameter tuning  \n",
    "                                             # on a local machine several times and the best output is considered\n",
    "    \"max_depth\" : \"5\",\n",
    "    \"eta\" : \"0.2\",\n",
    "    \"gamma\" : \"4\",\n",
    "    \"min_child_weight\" : \"6\",\n",
    "    \"subsample\" : \"0.7\",\n",
    "    \"objective\" : \"binary:logistic\",\n",
    "    \"num_round\" : 50\n",
    "}"
   ]
  },
  {
   "cell_type": "code",
   "execution_count": 39,
   "metadata": {},
   "outputs": [],
   "source": [
    "estimator = sagemaker.estimator.Estimator(image_uri = container, \n",
    "                                         hyperparameters = hyperparameters,\n",
    "                                         role = sagemaker.get_execution_role(),\n",
    "                                         instance_count = 1,\n",
    "                                         instance_type = 'ml.m5.2xlarge',\n",
    "                                         volume_size = 5,\n",
    "                                         output_path = output_path,\n",
    "                                         use_spot_instances = True,\n",
    "                                         max_run = 300,\n",
    "                                         max_wait = 600)"
   ]
  },
  {
   "cell_type": "code",
   "execution_count": 40,
   "metadata": {},
   "outputs": [
    {
     "name": "stdout",
     "output_type": "stream",
     "text": [
      "2021-01-30 03:00:04 Starting - Starting the training job...\n",
      "2021-01-30 03:00:28 Starting - Launching requested ML instancesProfilerReport-1611975604: InProgress\n",
      "......\n",
      "2021-01-30 03:01:29 Starting - Preparing the instances for training......\n",
      "2021-01-30 03:02:31 Downloading - Downloading input data\n",
      "2021-01-30 03:02:31 Training - Downloading the training image...\n",
      "2021-01-30 03:03:00 Uploading - Uploading generated training model\n",
      "2021-01-30 03:03:00 Completed - Training job completed\n",
      "\u001b[34mINFO:sagemaker-containers:Imported framework sagemaker_xgboost_container.training\u001b[0m\n",
      "\u001b[34mINFO:sagemaker-containers:Failed to parse hyperparameter objective value binary:logistic to Json.\u001b[0m\n",
      "\u001b[34mReturning the value itself\u001b[0m\n",
      "\u001b[34mINFO:sagemaker-containers:No GPUs detected (normal if no gpus installed)\u001b[0m\n",
      "\u001b[34mINFO:sagemaker_xgboost_container.training:Running XGBoost Sagemaker in algorithm mode\u001b[0m\n",
      "\u001b[34mINFO:root:Determined delimiter of CSV input is ','\u001b[0m\n",
      "\u001b[34mINFO:root:Determined delimiter of CSV input is ','\u001b[0m\n",
      "\u001b[34mINFO:root:Determined delimiter of CSV input is ','\u001b[0m\n",
      "\u001b[34m[03:02:49] 28831x59 matrix with 1701029 entries loaded from /opt/ml/input/data/train?format=csv&label_column=0&delimiter=,\u001b[0m\n",
      "\u001b[34mINFO:root:Determined delimiter of CSV input is ','\u001b[0m\n",
      "\u001b[34m[03:02:49] 12357x59 matrix with 729063 entries loaded from /opt/ml/input/data/validation?format=csv&label_column=0&delimiter=,\u001b[0m\n",
      "\u001b[34mINFO:root:Single node training.\u001b[0m\n",
      "\u001b[34mINFO:root:Train matrix has 28831 rows\u001b[0m\n",
      "\u001b[34mINFO:root:Validation matrix has 12357 rows\u001b[0m\n",
      "\u001b[34m[03:02:49] WARNING: /workspace/src/learner.cc:328: \u001b[0m\n",
      "\u001b[34mParameters: { num_round } might not be used.\n",
      "\n",
      "  This may not be accurate due to some parameters are only used in language bindings but\n",
      "  passed down to XGBoost core.  Or some parameters are not used but slip through this\n",
      "  verification. Please open an issue if you find above cases.\n",
      "\n",
      "\u001b[0m\n",
      "\u001b[34m[0]#011train-error:0.10190#011validation-error:0.10229\u001b[0m\n",
      "\u001b[34m[1]#011train-error:0.10135#011validation-error:0.10027\u001b[0m\n",
      "\u001b[34m[2]#011train-error:0.10156#011validation-error:0.10197\u001b[0m\n",
      "\u001b[34m[3]#011train-error:0.10194#011validation-error:0.10116\u001b[0m\n",
      "\u001b[34m[4]#011train-error:0.10201#011validation-error:0.10083\u001b[0m\n",
      "\u001b[34m[5]#011train-error:0.10208#011validation-error:0.10043\u001b[0m\n",
      "\u001b[34m[6]#011train-error:0.10159#011validation-error:0.10043\u001b[0m\n",
      "\u001b[34m[7]#011train-error:0.10149#011validation-error:0.10002\u001b[0m\n",
      "\u001b[34m[8]#011train-error:0.10128#011validation-error:0.10002\u001b[0m\n",
      "\u001b[34m[9]#011train-error:0.10069#011validation-error:0.10083\u001b[0m\n",
      "\u001b[34m[10]#011train-error:0.10090#011validation-error:0.10035\u001b[0m\n",
      "\u001b[34m[11]#011train-error:0.10069#011validation-error:0.10067\u001b[0m\n",
      "\u001b[34m[12]#011train-error:0.10055#011validation-error:0.10027\u001b[0m\n",
      "\u001b[34m[13]#011train-error:0.10045#011validation-error:0.10051\u001b[0m\n",
      "\u001b[34m[14]#011train-error:0.10069#011validation-error:0.10035\u001b[0m\n",
      "\u001b[34m[15]#011train-error:0.10041#011validation-error:0.10035\u001b[0m\n",
      "\u001b[34m[16]#011train-error:0.10014#011validation-error:0.10100\u001b[0m\n",
      "\u001b[34m[17]#011train-error:0.10045#011validation-error:0.10059\u001b[0m\n",
      "\u001b[34m[18]#011train-error:0.10059#011validation-error:0.10027\u001b[0m\n",
      "\u001b[34m[19]#011train-error:0.10038#011validation-error:0.10051\u001b[0m\n",
      "\u001b[34m[20]#011train-error:0.10017#011validation-error:0.10035\u001b[0m\n",
      "\u001b[34m[21]#011train-error:0.10014#011validation-error:0.10019\u001b[0m\n",
      "\u001b[34m[22]#011train-error:0.10003#011validation-error:0.10002\u001b[0m\n",
      "\u001b[34m[23]#011train-error:0.09958#011validation-error:0.10067\u001b[0m\n",
      "\u001b[34m[24]#011train-error:0.09903#011validation-error:0.10019\u001b[0m\n",
      "\u001b[34m[25]#011train-error:0.09889#011validation-error:0.10043\u001b[0m\n",
      "\u001b[34m[26]#011train-error:0.09878#011validation-error:0.10002\u001b[0m\n",
      "\u001b[34m[27]#011train-error:0.09892#011validation-error:0.10019\u001b[0m\n",
      "\u001b[34m[28]#011train-error:0.09885#011validation-error:0.10002\u001b[0m\n",
      "\u001b[34m[29]#011train-error:0.09885#011validation-error:0.10010\u001b[0m\n",
      "\u001b[34m[30]#011train-error:0.09861#011validation-error:0.10010\u001b[0m\n",
      "\u001b[34m[31]#011train-error:0.09854#011validation-error:0.10010\u001b[0m\n",
      "\u001b[34m[32]#011train-error:0.09847#011validation-error:0.10043\u001b[0m\n",
      "\u001b[34m[33]#011train-error:0.09826#011validation-error:0.10059\u001b[0m\n",
      "\u001b[34m[34]#011train-error:0.09826#011validation-error:0.10051\u001b[0m\n",
      "\u001b[34m[35]#011train-error:0.09826#011validation-error:0.10075\u001b[0m\n",
      "\u001b[34m[36]#011train-error:0.09819#011validation-error:0.10075\u001b[0m\n",
      "\u001b[34m[37]#011train-error:0.09816#011validation-error:0.10043\u001b[0m\n",
      "\u001b[34m[38]#011train-error:0.09799#011validation-error:0.10075\u001b[0m\n",
      "\u001b[34m[39]#011train-error:0.09809#011validation-error:0.10051\u001b[0m\n",
      "\u001b[34m[40]#011train-error:0.09802#011validation-error:0.10027\u001b[0m\n",
      "\u001b[34m[41]#011train-error:0.09812#011validation-error:0.10002\u001b[0m\n",
      "\u001b[34m[42]#011train-error:0.09816#011validation-error:0.10002\u001b[0m\n",
      "\u001b[34m[43]#011train-error:0.09802#011validation-error:0.10051\u001b[0m\n",
      "\u001b[34m[44]#011train-error:0.09792#011validation-error:0.10059\u001b[0m\n",
      "\u001b[34m[45]#011train-error:0.09781#011validation-error:0.10043\u001b[0m\n",
      "\u001b[34m[46]#011train-error:0.09805#011validation-error:0.10035\u001b[0m\n",
      "\u001b[34m[47]#011train-error:0.09809#011validation-error:0.10027\u001b[0m\n",
      "\u001b[34m[48]#011train-error:0.09781#011validation-error:0.10035\u001b[0m\n",
      "\u001b[34m[49]#011train-error:0.09757#011validation-error:0.10043\u001b[0m\n",
      "Training seconds: 53\n",
      "Billable seconds: 25\n",
      "Managed Spot Training savings: 52.8%\n"
     ]
    }
   ],
   "source": [
    "estimator.fit({'train': S3_train, 'validation': S3_test})"
   ]
  },
  {
   "cell_type": "markdown",
   "metadata": {},
   "source": [
    "## Deploying the Model"
   ]
  },
  {
   "cell_type": "code",
   "execution_count": 46,
   "metadata": {},
   "outputs": [
    {
     "name": "stdout",
     "output_type": "stream",
     "text": [
      "-----------------!"
     ]
    }
   ],
   "source": [
    "xgb_predictor = estimator.deploy(initial_instance_count=1, instance_type = \"ml.m4.xlarge\")"
   ]
  },
  {
   "cell_type": "code",
   "execution_count": 49,
   "metadata": {},
   "outputs": [
    {
     "name": "stderr",
     "output_type": "stream",
     "text": [
      "The csv_serializer has been renamed in sagemaker>=2.\n",
      "See: https://sagemaker.readthedocs.io/en/stable/v2.html for details.\n"
     ]
    },
    {
     "name": "stdout",
     "output_type": "stream",
     "text": [
      "(12357,)\n"
     ]
    }
   ],
   "source": [
    "from sagemaker.predictor import csv_serializer\n",
    "test_data_array = test_data.drop(['y_no', 'y_yes'], axis=1).values #load the data into an array\n",
    "xgb_predictor.content_types = 'text/csv' # set the data type for an inference\n",
    "xgb_predictor.serializer = csv_serializer # set the serializer type\n",
    "predictions = xgb_predictor.predict(test_data_array).decode('utf-8') # predict!\n",
    "predictions_array = np.fromstring(predictions[1:], sep=',') # and turn the prediction into an array\n",
    "print(predictions_array.shape)"
   ]
  },
  {
   "cell_type": "code",
   "execution_count": 50,
   "metadata": {},
   "outputs": [
    {
     "data": {
      "text/plain": [
       "array([0.02503077, 0.04527099, 0.15711819, ..., 0.07941107, 0.02970827,\n",
       "       0.03030096])"
      ]
     },
     "execution_count": 50,
     "metadata": {},
     "output_type": "execute_result"
    }
   ],
   "source": [
    "predictions_array"
   ]
  },
  {
   "cell_type": "markdown",
   "metadata": {},
   "source": [
    "## Confusion Matrix"
   ]
  },
  {
   "cell_type": "code",
   "execution_count": 51,
   "metadata": {},
   "outputs": [
    {
     "name": "stdout",
     "output_type": "stream",
     "text": [
      "\n",
      "Overall Classification Rate: 90.0%\n",
      "\n",
      "Predicted      No Purchase    Purchase\n",
      "Observed\n",
      "No Purchase    91% (10818)    38% (180)\n",
      "Purchase        9% (1061)     62% (298) \n",
      "\n"
     ]
    }
   ],
   "source": [
    "cm = pd.crosstab(index=test_data['y_yes'], columns=np.round(predictions_array), rownames=['Observed'], colnames=['Predicted'])\n",
    "tn = cm.iloc[0,0]; fn = cm.iloc[1,0]; tp = cm.iloc[1,1]; fp = cm.iloc[0,1]; p = (tp+tn)/(tp+tn+fp+fn)*100\n",
    "print(\"\\n{0:<20}{1:<4.1f}%\\n\".format(\"Overall Classification Rate: \", p))\n",
    "print(\"{0:<15}{1:<15}{2:>8}\".format(\"Predicted\", \"No Purchase\", \"Purchase\"))\n",
    "print(\"Observed\")\n",
    "print(\"{0:<15}{1:<2.0f}% ({2:<}){3:>6.0f}% ({4:<})\".format(\"No Purchase\", tn/(tn+fn)*100,tn, fp/(tp+fp)*100, fp))\n",
    "print(\"{0:<16}{1:<1.0f}% ({2:<}){3:>7.0f}% ({4:<}) \\n\".format(\"Purchase\", fn/(tn+fn)*100,fn, tp/(tp+fp)*100, tp))"
   ]
  },
  {
   "cell_type": "markdown",
   "metadata": {},
   "source": [
    "## Deleting the Endpoints"
   ]
  },
  {
   "cell_type": "code",
   "execution_count": 80,
   "metadata": {},
   "outputs": [
    {
     "data": {
      "text/plain": [
       "[]"
      ]
     },
     "execution_count": 80,
     "metadata": {},
     "output_type": "execute_result"
    }
   ],
   "source": [
    "sagemaker.predictor.Predictor(\"sagemaker-xgboost-2021-01-30-03-12-10-800\")\n",
    "bucket_to_delete = boto3.resource('s3').Bucket(bucket_name)\n",
    "bucket_to_delete.objects.all().delete()"
   ]
  },
  {
   "cell_type": "code",
   "execution_count": null,
   "metadata": {},
   "outputs": [],
   "source": []
  }
 ],
 "metadata": {
  "kernelspec": {
   "display_name": "Python 3",
   "language": "python",
   "name": "python3"
  },
  "language_info": {
   "codemirror_mode": {
    "name": "ipython",
    "version": 3
   },
   "file_extension": ".py",
   "mimetype": "text/x-python",
   "name": "python",
   "nbconvert_exporter": "python",
   "pygments_lexer": "ipython3",
   "version": "3.8.3"
  }
 },
 "nbformat": 4,
 "nbformat_minor": 4
}
